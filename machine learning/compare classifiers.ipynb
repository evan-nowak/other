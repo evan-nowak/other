{
 "cells": [
  {
   "cell_type": "code",
   "execution_count": 1,
   "metadata": {},
   "outputs": [
    {
     "data": {
      "application/javascript": [
       "IPython.notebook.set_autosave_interval(300000)"
      ]
     },
     "metadata": {},
     "output_type": "display_data"
    },
    {
     "name": "stdout",
     "output_type": "stream",
     "text": [
      "Autosaving every 300 seconds\n"
     ]
    }
   ],
   "source": [
    "%autosave 300"
   ]
  },
  {
   "cell_type": "code",
   "execution_count": 32,
   "metadata": {},
   "outputs": [],
   "source": [
    "from time import time\n",
    "import numpy as np\n",
    "import pandas as pd\n",
    "import matplotlib.pyplot as plt\n",
    "\n",
    "from sklearn import model_selection\n",
    "from sklearn.model_selection import cross_val_score\n",
    "from sklearn.preprocessing import StandardScaler\n",
    "\n",
    "from sklearn.linear_model import LogisticRegression\n",
    "from sklearn.ensemble import RandomForestClassifier\n",
    "from sklearn.ensemble import GradientBoostingClassifier\n",
    "from sklearn.ensemble import ExtraTreesClassifier\n",
    "\n",
    "from skopt import gp_minimize\n",
    "from skopt.space import Real, Integer, Categorical\n",
    "from skopt.utils import use_named_args\n",
    "from skopt.plots import plot_convergence\n",
    "\n",
    "from jupyterthemes import jtplot\n",
    "jtplot.style()"
   ]
  },
  {
   "cell_type": "code",
   "execution_count": 33,
   "metadata": {},
   "outputs": [],
   "source": [
    "def create_boxplots(names, results):\n",
    "    fig = plt.figure(figsize=(16,9))\n",
    "    ax = fig.add_subplot(111)\n",
    "    plt.boxplot(results, whiskerprops={'color': '#987987', 'linewidth': 2}, boxprops={'color': '#987987', 'linewidth': 2}, medianprops={'color': '#789789', 'linewidth': 2}, capprops={'color': '#987987', 'linewidth': 2}, flierprops={'markeredgecolor': '#798798', 'linewidth': 2})\n",
    "    ax.set_xticklabels(names)\n",
    "    ax.tick_params(axis='x', colors='#ffffff')\n",
    "    ax.tick_params(axis='y', colors='#ffffff')\n",
    "    plt.show()\n",
    "    \n",
    "    \n",
    "def print_results(res, names):\n",
    "    print('best score', ':', res.fun, end='\\n\\n')\n",
    "    for n, v in enumerate(names):\n",
    "        print(v, ':', res.x[n])"
   ]
  },
  {
   "cell_type": "code",
   "execution_count": 34,
   "metadata": {
    "scrolled": true
   },
   "outputs": [
    {
     "name": "stdout",
     "output_type": "stream",
     "text": [
      "(768, 9)\n"
     ]
    },
    {
     "data": {
      "text/html": [
       "<div>\n",
       "<style scoped>\n",
       "    .dataframe tbody tr th:only-of-type {\n",
       "        vertical-align: middle;\n",
       "    }\n",
       "\n",
       "    .dataframe tbody tr th {\n",
       "        vertical-align: top;\n",
       "    }\n",
       "\n",
       "    .dataframe thead th {\n",
       "        text-align: right;\n",
       "    }\n",
       "</style>\n",
       "<table border=\"1\" class=\"dataframe\">\n",
       "  <thead>\n",
       "    <tr style=\"text-align: right;\">\n",
       "      <th></th>\n",
       "      <th>preg</th>\n",
       "      <th>plas</th>\n",
       "      <th>pres</th>\n",
       "      <th>skin</th>\n",
       "      <th>test</th>\n",
       "      <th>mass</th>\n",
       "      <th>pedi</th>\n",
       "      <th>age</th>\n",
       "      <th>class</th>\n",
       "    </tr>\n",
       "  </thead>\n",
       "  <tbody>\n",
       "    <tr>\n",
       "      <th>0</th>\n",
       "      <td>6</td>\n",
       "      <td>148</td>\n",
       "      <td>72</td>\n",
       "      <td>35</td>\n",
       "      <td>0</td>\n",
       "      <td>33.6</td>\n",
       "      <td>0.627</td>\n",
       "      <td>50</td>\n",
       "      <td>1</td>\n",
       "    </tr>\n",
       "    <tr>\n",
       "      <th>1</th>\n",
       "      <td>1</td>\n",
       "      <td>85</td>\n",
       "      <td>66</td>\n",
       "      <td>29</td>\n",
       "      <td>0</td>\n",
       "      <td>26.6</td>\n",
       "      <td>0.351</td>\n",
       "      <td>31</td>\n",
       "      <td>0</td>\n",
       "    </tr>\n",
       "  </tbody>\n",
       "</table>\n",
       "</div>"
      ],
      "text/plain": [
       "   preg  plas  pres  skin  test  mass   pedi  age  class\n",
       "0     6   148    72    35     0  33.6  0.627   50      1\n",
       "1     1    85    66    29     0  26.6  0.351   31      0"
      ]
     },
     "execution_count": 34,
     "metadata": {},
     "output_type": "execute_result"
    }
   ],
   "source": [
    "url = \"https://raw.githubusercontent.com/jbrownlee/Datasets/master/pima-indians-diabetes.data.csv\"\n",
    "names = ['preg', 'plas', 'pres', 'skin', 'test', 'mass', 'pedi', 'age', 'class']\n",
    "\n",
    "df = pd.read_csv(url, names=names)\n",
    "\n",
    "X = df.iloc[:, :8].values\n",
    "y = df.iloc[:, 8].values\n",
    "\n",
    "scl = StandardScaler()\n",
    "X = scl.fit_transform(X)\n",
    "\n",
    "n_features = X.shape[1]\n",
    "\n",
    "print(df.shape)\n",
    "df.head(2)"
   ]
  },
  {
   "cell_type": "code",
   "execution_count": 5,
   "metadata": {
    "scrolled": false
   },
   "outputs": [
    {
     "data": {
      "text/plain": [
       "(array([500.,   0.,   0.,   0.,   0.,   0.,   0.,   0.,   0., 268.]),\n",
       " array([0. , 0.1, 0.2, 0.3, 0.4, 0.5, 0.6, 0.7, 0.8, 0.9, 1. ]),\n",
       " <a list of 10 Patch objects>)"
      ]
     },
     "execution_count": 5,
     "metadata": {},
     "output_type": "execute_result"
    },
    {
     "data": {
      "image/png": "[encoded data removed]",
      "text/plain": [
       "<Figure size 432x288 with 1 Axes>"
      ]
     },
     "metadata": {},
     "output_type": "display_data"
    }
   ],
   "source": [
    "plt.hist(y)"
   ]
  },
  {
   "cell_type": "code",
   "execution_count": 40,
   "metadata": {},
   "outputs": [
    {
     "name": "stdout",
     "output_type": "stream",
     "text": [
      "Log:\t0.827002 (0.046555)\n",
      "GB:\t0.829075 (0.039599)\n",
      "RF:\t0.768455 (0.053762)\n",
      "ET:\t0.764360 (0.052822)\n"
     ]
    }
   ],
   "source": [
    "models = [\n",
    "    ('Log', LogisticRegression(max_iter=1000)),\n",
    "    ('GB', GradientBoostingClassifier()),\n",
    "    ('RF', RandomForestClassifier()),\n",
    "    ('ET', ExtraTreesClassifier())\n",
    "]\n",
    "\n",
    "results = []\n",
    "names = []\n",
    "\n",
    "seed = 7\n",
    "scoring = 'roc_auc'\n",
    "\n",
    "for name, model in models:\n",
    "    kfold = model_selection.KFold(n_splits=10, random_state=seed, shuffle=True)\n",
    "    cv_results = model_selection.cross_val_score(model, X, y, cv=kfold, scoring=scoring, n_jobs=-1)\n",
    "    results.append(cv_results)\n",
    "    names.append(name)\n",
    "    \n",
    "    print(\"%s:\\t%f (%f)\" % (name, np.median(cv_results), cv_results.std()))"
   ]
  },
  {
   "cell_type": "code",
   "execution_count": 41,
   "metadata": {},
   "outputs": [
    {
     "data": {
      "image/png": "[encoded data removed]",
      "text/plain": [
       "<Figure size 1152x648 with 1 Axes>"
      ]
     },
     "metadata": {},
     "output_type": "display_data"
    }
   ],
   "source": [
    "create_boxplots(names, results)"
   ]
  },
  {
   "cell_type": "markdown",
   "metadata": {},
   "source": [
    "### logistic regression, l2"
   ]
  },
  {
   "cell_type": "code",
   "execution_count": 42,
   "metadata": {},
   "outputs": [
    {
     "name": "stderr",
     "output_type": "stream",
     "text": [
      "C:\\Anaconda3\\lib\\site-packages\\skopt\\optimizer\\optimizer.py:409: UserWarning: The objective has been evaluated at this point before.\n",
      "  warnings.warn(\"The objective has been evaluated \"\n",
      "C:\\Anaconda3\\lib\\site-packages\\skopt\\optimizer\\optimizer.py:409: UserWarning: The objective has been evaluated at this point before.\n",
      "  warnings.warn(\"The objective has been evaluated \"\n",
      "C:\\Anaconda3\\lib\\site-packages\\skopt\\optimizer\\optimizer.py:409: UserWarning: The objective has been evaluated at this point before.\n",
      "  warnings.warn(\"The objective has been evaluated \"\n"
     ]
    },
    {
     "name": "stdout",
     "output_type": "stream",
     "text": [
      "best score : -0.8331055206149547\n",
      "\n",
      "solver : sag\n",
      "tol : 0.008145724162957104\n",
      "C : 0.5074331870466359\n"
     ]
    }
   ],
   "source": [
    "cls = LogisticRegression(max_iter=1000, n_jobs=-1, penalty='l2')\n",
    "\n",
    "space = [\n",
    "    Categorical(['lbfgs', 'sag', 'saga', 'liblinear'], name='solver'),\n",
    "    Real(1e-6, 1e-2, 'log_uniform', name='tol'),\n",
    "    Real(.5, 2, name='C')\n",
    "]\n",
    "\n",
    "hp_names = ['solver', 'tol', 'C']\n",
    "\n",
    "@use_named_args(space)\n",
    "def objective(**params):\n",
    "    cls.set_params(**params)\n",
    "    \n",
    "    return -np.mean(cross_val_score(cls, X, y, cv=5, n_jobs=-1, scoring=scoring))\n",
    "\n",
    "res = gp_minimize(objective, space, n_calls=50, random_state=seed)\n",
    "\n",
    "print_results(res, hp_names)"
   ]
  },
  {
   "cell_type": "markdown",
   "metadata": {},
   "source": [
    "### logistic regression, l1"
   ]
  },
  {
   "cell_type": "code",
   "execution_count": 43,
   "metadata": {},
   "outputs": [
    {
     "name": "stderr",
     "output_type": "stream",
     "text": [
      "C:\\Anaconda3\\lib\\site-packages\\skopt\\optimizer\\optimizer.py:409: UserWarning: The objective has been evaluated at this point before.\n",
      "  warnings.warn(\"The objective has been evaluated \"\n",
      "C:\\Anaconda3\\lib\\site-packages\\skopt\\optimizer\\optimizer.py:409: UserWarning: The objective has been evaluated at this point before.\n",
      "  warnings.warn(\"The objective has been evaluated \"\n",
      "C:\\Anaconda3\\lib\\site-packages\\skopt\\optimizer\\optimizer.py:409: UserWarning: The objective has been evaluated at this point before.\n",
      "  warnings.warn(\"The objective has been evaluated \"\n"
     ]
    },
    {
     "name": "stdout",
     "output_type": "stream",
     "text": [
      "best score : -0.8329524807826694\n",
      "\n",
      "solver : liblinear\n",
      "tol : 0.009917289211245734\n",
      "C : 1.9980583057482546\n"
     ]
    }
   ],
   "source": [
    "cls = LogisticRegression(max_iter=1000, n_jobs=-1, penalty='l1')\n",
    "\n",
    "space = [\n",
    "    Categorical(['liblinear', 'saga'], name='solver'),\n",
    "    Real(1e-6, 1e-2, 'log_uniform', name='tol'),\n",
    "    Real(.5, 2, name='C')\n",
    "]\n",
    "\n",
    "hp_names = ['solver', 'tol', 'C']\n",
    "\n",
    "@use_named_args(space)\n",
    "def objective(**params):\n",
    "    cls.set_params(**params)\n",
    "    \n",
    "    return -np.mean(cross_val_score(cls, X, y, cv=5, n_jobs=-1, scoring=scoring))\n",
    "\n",
    "res = gp_minimize(objective, space, n_calls=50, random_state=seed)\n",
    "\n",
    "print_results(res, hp_names)"
   ]
  },
  {
   "cell_type": "markdown",
   "metadata": {},
   "source": [
    "### gradient boosted"
   ]
  },
  {
   "cell_type": "code",
   "execution_count": 44,
   "metadata": {},
   "outputs": [
    {
     "name": "stdout",
     "output_type": "stream",
     "text": [
      "best score : -0.8439028651292804\n",
      "\n",
      "max_depth : 1\n",
      "min_samples_split : 100\n",
      "min_samples_leaf : 1\n",
      "n_estimators : 1000\n",
      "max_features : 8\n",
      "learning_rate : 0.04362018905455153\n"
     ]
    }
   ],
   "source": [
    "cls = GradientBoostingClassifier()\n",
    "\n",
    "space = [\n",
    "    Integer(1, 5, name='max_depth'),\n",
    "    Integer(2, 100, name='min_samples_split'),\n",
    "    Integer(1, 100, name='min_samples_leaf'),\n",
    "    Integer(100, 1000, name='n_estimators'),\n",
    "    Integer(1, n_features, name='max_features'),\n",
    "    Real(1e-5, 1, 'log_uniform', name='learning_rate')\n",
    "]\n",
    "\n",
    "hp_names = ['max_depth', 'min_samples_split', 'min_samples_leaf', 'n_estimators', 'max_features', \n",
    "            'learning_rate']\n",
    "\n",
    "@use_named_args(space)\n",
    "def objective(**params):\n",
    "    cls.set_params(**params)\n",
    "    return -np.mean(cross_val_score(cls, X, y, cv=5, n_jobs=-1, scoring=scoring))\n",
    "\n",
    "res = gp_minimize(objective, space, n_calls=50, random_state=seed)\n",
    "\n",
    "print_results(res, hp_names)"
   ]
  },
  {
   "cell_type": "markdown",
   "metadata": {},
   "source": [
    "### random forest"
   ]
  },
  {
   "cell_type": "code",
   "execution_count": 48,
   "metadata": {
    "scrolled": true
   },
   "outputs": [
    {
     "name": "stderr",
     "output_type": "stream",
     "text": [
      "C:\\Anaconda3\\lib\\site-packages\\skopt\\optimizer\\optimizer.py:409: UserWarning: The objective has been evaluated at this point before.\n",
      "  warnings.warn(\"The objective has been evaluated \"\n",
      "C:\\Anaconda3\\lib\\site-packages\\skopt\\optimizer\\optimizer.py:409: UserWarning: The objective has been evaluated at this point before.\n",
      "  warnings.warn(\"The objective has been evaluated \"\n"
     ]
    },
    {
     "name": "stdout",
     "output_type": "stream",
     "text": [
      "best score : -0.8364353598881902\n",
      "\n",
      "max_depth : 5\n",
      "min_samples_split : 2\n",
      "min_samples_leaf : 1\n",
      "n_estimators : 1000\n",
      "max_features : 5\n",
      "criterion : entropy\n"
     ]
    }
   ],
   "source": [
    "cls = RandomForestClassifier()\n",
    "\n",
    "space = [\n",
    "    Integer(1, 5, name='max_depth'),\n",
    "    Integer(2, 100, name='min_samples_split'),\n",
    "    Integer(1, 100, name='min_samples_leaf'),\n",
    "    Integer(100, 1000, name='n_estimators'),\n",
    "    Integer(1, n_features, name='max_features'),\n",
    "    Categorical(['gini', 'entropy'], name='criterion')\n",
    "]\n",
    "\n",
    "hp_names = ['max_depth', 'min_samples_split', 'min_samples_leaf', 'n_estimators', 'max_features', \n",
    "            'criterion']\n",
    "\n",
    "@use_named_args(space)\n",
    "def objective(**params):\n",
    "    cls.set_params(**params)\n",
    "    return -np.mean(cross_val_score(cls, X, y, cv=5, n_jobs=-1, scoring=scoring))\n",
    "\n",
    "res = gp_minimize(objective, space, n_calls=50, random_state=0)\n",
    "\n",
    "print_results(res, hp_names)"
   ]
  },
  {
   "cell_type": "markdown",
   "metadata": {},
   "source": [
    "### extra trees"
   ]
  },
  {
   "cell_type": "code",
   "execution_count": 49,
   "metadata": {},
   "outputs": [
    {
     "name": "stderr",
     "output_type": "stream",
     "text": [
      "C:\\Anaconda3\\lib\\site-packages\\skopt\\optimizer\\optimizer.py:409: UserWarning: The objective has been evaluated at this point before.\n",
      "  warnings.warn(\"The objective has been evaluated \"\n",
      "C:\\Anaconda3\\lib\\site-packages\\skopt\\optimizer\\optimizer.py:409: UserWarning: The objective has been evaluated at this point before.\n",
      "  warnings.warn(\"The objective has been evaluated \"\n",
      "C:\\Anaconda3\\lib\\site-packages\\skopt\\optimizer\\optimizer.py:409: UserWarning: The objective has been evaluated at this point before.\n",
      "  warnings.warn(\"The objective has been evaluated \"\n",
      "C:\\Anaconda3\\lib\\site-packages\\skopt\\optimizer\\optimizer.py:409: UserWarning: The objective has been evaluated at this point before.\n",
      "  warnings.warn(\"The objective has been evaluated \"\n",
      "C:\\Anaconda3\\lib\\site-packages\\skopt\\optimizer\\optimizer.py:409: UserWarning: The objective has been evaluated at this point before.\n",
      "  warnings.warn(\"The objective has been evaluated \"\n"
     ]
    },
    {
     "name": "stdout",
     "output_type": "stream",
     "text": [
      "best score : -0.8397875611460519\n",
      "\n",
      "max_depth : 5\n",
      "min_samples_split : 3\n",
      "min_samples_leaf : 2\n",
      "n_estimators : 472\n",
      "max_features : 4\n",
      "criterion : entropy\n"
     ]
    }
   ],
   "source": [
    "cls = ExtraTreesClassifier()\n",
    "\n",
    "space = [\n",
    "    Integer(1, 5, name='max_depth'),\n",
    "    Integer(2, 100, name='min_samples_split'),\n",
    "    Integer(1, 100, name='min_samples_leaf'),\n",
    "    Integer(100, 1000, name='n_estimators'),\n",
    "    Integer(1, n_features, name='max_features'),\n",
    "    Categorical(['gini', 'entropy'], name='criterion')\n",
    "]\n",
    "\n",
    "hp_names = ['max_depth', 'min_samples_split', 'min_samples_leaf', 'n_estimators', 'max_features', \n",
    "            'criterion']\n",
    "\n",
    "@use_named_args(space)\n",
    "def objective(**params):\n",
    "    cls.set_params(**params)\n",
    "    return -np.mean(cross_val_score(cls, X, y, cv=5, n_jobs=-1, scoring=scoring))\n",
    "\n",
    "res = gp_minimize(objective, space, n_calls=50, random_state=0)\n",
    "\n",
    "print_results(res, hp_names)"
   ]
  },
  {
   "cell_type": "markdown",
   "metadata": {},
   "source": [
    "### compare"
   ]
  },
  {
   "cell_type": "code",
   "execution_count": 55,
   "metadata": {
    "scrolled": true
   },
   "outputs": [
    {
     "name": "stdout",
     "output_type": "stream",
     "text": [
      "Log:\t0.826632 (0.046713)\n",
      "GB:\t0.834323 (0.032917)\n",
      "RF:\t0.832120 (0.041282)\n",
      "ET:\t0.836151 (0.040804)\n"
     ]
    }
   ],
   "source": [
    "models = [\n",
    "    ('Log', LogisticRegression(max_iter=1000, solver='sag', tol=0.00814572, C=0.507433)),\n",
    "    ('GB', GradientBoostingClassifier(max_depth=1, min_samples_split=100, min_samples_leaf=1,\n",
    "                                      n_estimators=1000, max_features=8, learning_rate=0.0436202)),\n",
    "    ('RF', RandomForestClassifier(max_depth=5, min_samples_split=2, min_samples_leaf=1, \n",
    "                                      n_estimators=1000, max_features=5, criterion='entropy')),\n",
    "    ('ET', ExtraTreesClassifier(max_depth=5, min_samples_split=3, min_samples_leaf=2, \n",
    "                                      n_estimators=472, max_features=4, criterion='entropy'))\n",
    "]\n",
    "\n",
    "results = []\n",
    "names = []\n",
    "\n",
    "seed = 7\n",
    "scoring = 'roc_auc'\n",
    "\n",
    "for name, model in models:\n",
    "    kfold = model_selection.KFold(n_splits=10, random_state=seed, shuffle=True)\n",
    "    cv_results = model_selection.cross_val_score(model, X, y, cv=kfold, scoring=scoring, n_jobs=-1)\n",
    "    results.append(cv_results)\n",
    "    names.append(name)\n",
    "\n",
    "    print(\"%s:\\t%f (%f)\" % (name, np.median(cv_results), cv_results.std()))"
   ]
  },
  {
   "cell_type": "code",
   "execution_count": 53,
   "metadata": {},
   "outputs": [
    {
     "data": {
      "image/png": "[encoded data removed]",
      "text/plain": [
       "<Figure size 1152x648 with 1 Axes>"
      ]
     },
     "metadata": {},
     "output_type": "display_data"
    }
   ],
   "source": [
    "create_boxplots(names, results)"
   ]
  },
  {
   "cell_type": "code",
   "execution_count": null,
   "metadata": {},
   "outputs": [],
   "source": []
  },
  {
   "cell_type": "code",
   "execution_count": null,
   "metadata": {},
   "outputs": [],
   "source": []
  },
  {
   "cell_type": "code",
   "execution_count": null,
   "metadata": {},
   "outputs": [],
   "source": []
  },
  {
   "cell_type": "code",
   "execution_count": null,
   "metadata": {},
   "outputs": [],
   "source": []
  },
  {
   "cell_type": "code",
   "execution_count": null,
   "metadata": {},
   "outputs": [],
   "source": []
  }
 ],
 "metadata": {
  "kernelspec": {
   "display_name": "Python 3",
   "language": "python",
   "name": "python3"
  },
  "language_info": {
   "codemirror_mode": {
    "name": "ipython",
    "version": 3
   },
   "file_extension": ".py",
   "mimetype": "text/x-python",
   "name": "python",
   "nbconvert_exporter": "python",
   "pygments_lexer": "ipython3",
   "version": "3.6.4"
  }
 },
 "nbformat": 4,
 "nbformat_minor": 2
}
