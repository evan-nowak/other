{
 "cells": [
  {
   "cell_type": "code",
   "execution_count": 2,
   "metadata": {},
   "outputs": [
    {
     "data": {
      "application/javascript": [
       "IPython.notebook.set_autosave_interval(300000)"
      ]
     },
     "metadata": {},
     "output_type": "display_data"
    },
    {
     "name": "stdout",
     "output_type": "stream",
     "text": [
      "Autosaving every 300 seconds\n"
     ]
    }
   ],
   "source": [
    "%autosave 300"
   ]
  },
  {
   "cell_type": "code",
   "execution_count": 4,
   "metadata": {},
   "outputs": [],
   "source": [
    "import os\n",
    "import pandas as pd"
   ]
  },
  {
   "cell_type": "markdown",
   "metadata": {},
   "source": [
    "### Get files"
   ]
  },
  {
   "cell_type": "markdown",
   "metadata": {},
   "source": [
    "- routes\n",
    "- trips\n",
    "- shapes\n",
    "- stops\n",
    "- stop times"
   ]
  },
  {
   "cell_type": "code",
   "execution_count": 214,
   "metadata": {},
   "outputs": [],
   "source": [
    "def get_files(folder_in='input/'):\n",
    "\n",
    "    fs = os.listdir(folder_in)\n",
    "    fs = {i.split('.')[0]: folder_in + i for i in fs}\n",
    "    \n",
    "    return fs"
   ]
  },
  {
   "cell_type": "markdown",
   "metadata": {},
   "source": [
    "### Load data"
   ]
  },
  {
   "cell_type": "code",
   "execution_count": null,
   "metadata": {},
   "outputs": [],
   "source": [
    "\n",
    "shapes = pd.read_csv(fs['shapes'])\n",
    "\n",
    "trips = pd.read_csv(fs['trips'])\n",
    "\n",
    "routes = pd.read_csv(fs['routes'])\n",
    "\n",
    "routes.rename(columns={'route_color': 'stroke'}, inplace=True)\n",
    "routes.stroke = '#' + routes.stroke.str.lstrip('#')\n",
    "\n",
    "stops = pd.read_csv(fs['stops'])\n",
    "\n",
    "stop_times = pd.read_csv(fs['stop_times'])"
   ]
  },
  {
   "cell_type": "code",
   "execution_count": 213,
   "metadata": {},
   "outputs": [],
   "source": [
    "def load_files(fs):\n",
    "    \n",
    "    dfs = {}\n",
    "    \n",
    "    for f in fs:\n",
    "        dfs[f] = pd.read_csv(fs[c])\n",
    "\n",
    "    return dfs"
   ]
  },
  {
   "cell_type": "markdown",
   "metadata": {},
   "source": [
    "### Transform shapes / stops"
   ]
  },
  {
   "cell_type": "code",
   "execution_count": 206,
   "metadata": {},
   "outputs": [
    {
     "data": {
      "text/plain": [
       "shape_id\n",
       "p_178567    [[-86.9120430550447, 40.4240669136031], [-86.9...\n",
       "p_178569    [[-86.913099, 40.430476], [-86.912601, 40.4299...\n",
       "Name: coords, dtype: object"
      ]
     },
     "execution_count": 206,
     "metadata": {},
     "output_type": "execute_result"
    }
   ],
   "source": [
    "temp = []\n",
    "for key, grp in shapes.groupby('shape_id'):\n",
    "    coords = grp.sort_values('shape_pt_sequence')[['shape_pt_lon', 'shape_pt_lat']].values\n",
    "    temp.append({'shape_id': key, 'coords': coords})\n",
    "\n",
    "shapes = pd.DataFrame(temp)\n",
    "del temp\n",
    "\n",
    "shapes.index = shapes.shape_id\n",
    "\n",
    "shapes = shapes.coords\n",
    "\n",
    "shapes.head(2)"
   ]
  },
  {
   "cell_type": "code",
   "execution_count": 207,
   "metadata": {},
   "outputs": [
    {
     "data": {
      "text/html": [
       "<div>\n",
       "<style scoped>\n",
       "    .dataframe tbody tr th:only-of-type {\n",
       "        vertical-align: middle;\n",
       "    }\n",
       "\n",
       "    .dataframe tbody tr th {\n",
       "        vertical-align: top;\n",
       "    }\n",
       "\n",
       "    .dataframe thead th {\n",
       "        text-align: right;\n",
       "    }\n",
       "</style>\n",
       "<table border=\"1\" class=\"dataframe\">\n",
       "  <thead>\n",
       "    <tr style=\"text-align: right;\">\n",
       "      <th></th>\n",
       "      <th>stop_id</th>\n",
       "      <th>stop_code</th>\n",
       "      <th>stop_name</th>\n",
       "      <th>coords</th>\n",
       "    </tr>\n",
       "  </thead>\n",
       "  <tbody>\n",
       "    <tr>\n",
       "      <th>0</th>\n",
       "      <td>2439192</td>\n",
       "      <td>BUS466W</td>\n",
       "      <td>22nd St &amp; JR Hiatt Dr (NW Corner): BUS466W</td>\n",
       "      <td>[-86.8717959061, 40.397776741778]</td>\n",
       "    </tr>\n",
       "    <tr>\n",
       "      <th>1</th>\n",
       "      <td>2439193</td>\n",
       "      <td>BUS304</td>\n",
       "      <td>Blackbird Farms 2 on McCormick Rd: BUS304</td>\n",
       "      <td>[-86.9442846099438, 40.4455293000443]</td>\n",
       "    </tr>\n",
       "  </tbody>\n",
       "</table>\n",
       "</div>"
      ],
      "text/plain": [
       "   stop_id stop_code                                   stop_name  \\\n",
       "0  2439192   BUS466W  22nd St & JR Hiatt Dr (NW Corner): BUS466W   \n",
       "1  2439193    BUS304   Blackbird Farms 2 on McCormick Rd: BUS304   \n",
       "\n",
       "                                  coords  \n",
       "0      [-86.8717959061, 40.397776741778]  \n",
       "1  [-86.9442846099438, 40.4455293000443]  "
      ]
     },
     "execution_count": 207,
     "metadata": {},
     "output_type": "execute_result"
    }
   ],
   "source": [
    "stops['coords'] = list(stops[['stop_lon', 'stop_lat']].values)\n",
    "\n",
    "stops.drop(['stop_lon', 'stop_lat'], axis=1, inplace=True)\n",
    "\n",
    "stops.head(2)"
   ]
  },
  {
   "cell_type": "markdown",
   "metadata": {},
   "source": [
    "### Map shapes to trips / routes"
   ]
  },
  {
   "cell_type": "code",
   "execution_count": 208,
   "metadata": {},
   "outputs": [
    {
     "data": {
      "text/html": [
       "<div>\n",
       "<style scoped>\n",
       "    .dataframe tbody tr th:only-of-type {\n",
       "        vertical-align: middle;\n",
       "    }\n",
       "\n",
       "    .dataframe tbody tr th {\n",
       "        vertical-align: top;\n",
       "    }\n",
       "\n",
       "    .dataframe thead th {\n",
       "        text-align: right;\n",
       "    }\n",
       "</style>\n",
       "<table border=\"1\" class=\"dataframe\">\n",
       "  <thead>\n",
       "    <tr style=\"text-align: right;\">\n",
       "      <th></th>\n",
       "      <th>route_id</th>\n",
       "      <th>trip_id</th>\n",
       "      <th>shape_id</th>\n",
       "      <th>coords</th>\n",
       "    </tr>\n",
       "  </thead>\n",
       "  <tbody>\n",
       "    <tr>\n",
       "      <th>0</th>\n",
       "      <td>10238</td>\n",
       "      <td>t_238480_b_6886_tn_0</td>\n",
       "      <td>p_226666</td>\n",
       "      <td>[[-86.860543, 40.365251], [-86.86053000000001,...</td>\n",
       "    </tr>\n",
       "    <tr>\n",
       "      <th>1</th>\n",
       "      <td>10238</td>\n",
       "      <td>t_238465_b_6886_tn_0</td>\n",
       "      <td>p_226666</td>\n",
       "      <td>[[-86.860543, 40.365251], [-86.86053000000001,...</td>\n",
       "    </tr>\n",
       "  </tbody>\n",
       "</table>\n",
       "</div>"
      ],
      "text/plain": [
       "   route_id               trip_id  shape_id  \\\n",
       "0     10238  t_238480_b_6886_tn_0  p_226666   \n",
       "1     10238  t_238465_b_6886_tn_0  p_226666   \n",
       "\n",
       "                                              coords  \n",
       "0  [[-86.860543, 40.365251], [-86.86053000000001,...  \n",
       "1  [[-86.860543, 40.365251], [-86.86053000000001,...  "
      ]
     },
     "execution_count": 208,
     "metadata": {},
     "output_type": "execute_result"
    }
   ],
   "source": [
    "trips['coords'] = trips.shape_id.map(shapes)\n",
    "\n",
    "temp = trips.copy()\n",
    "temp.drop_duplicates(subset=['route_id'], inplace=True)\n",
    "temp.index = temp.route_id\n",
    "\n",
    "routes['coords'] = routes.route_id.map(temp.coords)\n"
   ]
  },
  {
   "cell_type": "markdown",
   "metadata": {},
   "source": [
    "### Convert to GeoJSON"
   ]
  },
  {
   "cell_type": "code",
   "execution_count": 210,
   "metadata": {},
   "outputs": [],
   "source": [
    "def convert_to_geojson(df):\n",
    "\n",
    "    header = '{\\n\"type\": \"FeatureCollection\",\\n\"features\":\\n[\\n'\n",
    "    footer = '\\n]\\n}'\n",
    "\n",
    "    feat_code = '{\\n\"type\": \"Feature\",\\n\"geometry\":\\n{\\n\"type\": \"{{{TYPE}}}\",\\n\"coordinates\":\\n{{{COORDS}}}\\n},\\n\"properties\":\\n{\\n{{{PROPS}}}\\n}\\n}'\n",
    "\n",
    "    prop_code = '\"prop\": \"{{{PROP}}}\"'\n",
    "\n",
    "    cols = list(df.columns)\n",
    "    cols.remove('coords')\n",
    "\n",
    "    dd = df.copy()\n",
    "\n",
    "    dd.dropna(subset=['coords'], axis=0, inplace=True)\n",
    "\n",
    "    for c in cols:\n",
    "        dd[c] = dd[c].astype(str)\n",
    "\n",
    "    dd.coords = dd.coords.apply(lambda x: ''.join(str(x.tolist()).split()))\n",
    "\n",
    "    dd = dd.T.to_dict()\n",
    "\n",
    "    feats = []\n",
    "\n",
    "    for i in dd:\n",
    "\n",
    "        props = []\n",
    "\n",
    "        for c in cols:\n",
    "            prop = prop_code.replace('prop', c)\n",
    "            prop = prop.replace('{{{PROP}}}', dd[i][c])\n",
    "\n",
    "            props.append(prop)\n",
    "\n",
    "        props = ',\\n'.join(props)\n",
    "\n",
    "        feat = feat_code.replace('{{{PROPS}}}', props)\n",
    "        feat = feat.replace('{{{COORDS}}}', dd[i]['coords'])\n",
    "\n",
    "        if dd[i]['coords'][1] == '[':\n",
    "            feat_type = 'LineString'\n",
    "        else:\n",
    "            feat_type = 'Point'\n",
    "\n",
    "        feat = feat.replace('{{{TYPE}}}', feat_type)\n",
    "\n",
    "        feats.append(feat)\n",
    "\n",
    "    feats = ',\\n'.join(feats)\n",
    "\n",
    "    geojson = header + feats + footer\n",
    "    \n",
    "    return geojson"
   ]
  },
  {
   "cell_type": "code",
   "execution_count": null,
   "metadata": {},
   "outputs": [],
   "source": []
  },
  {
   "cell_type": "code",
   "execution_count": null,
   "metadata": {},
   "outputs": [],
   "source": []
  },
  {
   "cell_type": "code",
   "execution_count": null,
   "metadata": {},
   "outputs": [],
   "source": []
  },
  {
   "cell_type": "code",
   "execution_count": 10,
   "metadata": {},
   "outputs": [
    {
     "name": "stdout",
     "output_type": "stream",
     "text": [
      "getting filenames\n",
      "loading files\n",
      "transforming data\n",
      "mapping data\n",
      "converting to json\n",
      "saving files\n",
      "\n",
      "done\n"
     ]
    }
   ],
   "source": [
    "import os\n",
    "import pandas as pd\n",
    "\n",
    "\n",
    "def get_files(folder_in='input'):\n",
    "\n",
    "    fs = os.listdir(folder_in)\n",
    "    fs = {i.split('.')[0]: i for i in fs}\n",
    "    \n",
    "    return fs\n",
    "\n",
    "\n",
    "def load_files(fs, folder_in='input'):\n",
    "    \n",
    "    dfs = {}\n",
    "    \n",
    "    for f in fs:\n",
    "        dfs[f] = pd.read_csv('/'.join([folder_in, fs[f]]), low_memory=False)\n",
    "\n",
    "    return dfs\n",
    "\n",
    "\n",
    "def transform_shapes(shapes):\n",
    "\n",
    "    temp = []\n",
    "    for key, grp in shapes.groupby('shape_id'):\n",
    "        coords = grp.sort_values('shape_pt_sequence')[['shape_pt_lon', 'shape_pt_lat']].values\n",
    "        temp.append({'shape_id': key, 'coords': coords})\n",
    "\n",
    "    shapes = pd.DataFrame(temp)\n",
    "\n",
    "    shapes.index = shapes.shape_id\n",
    "\n",
    "    shapes = shapes.coords\n",
    "\n",
    "    return shapes\n",
    "\n",
    "\n",
    "def transform_stops(stops):\n",
    "\n",
    "    stops['coords'] = list(stops[['stop_lon', 'stop_lat']].values)\n",
    "\n",
    "    stops.drop(['stop_lon', 'stop_lat'], axis=1, inplace=True)\n",
    "\n",
    "    return stops\n",
    "\n",
    "\n",
    "def transform_routes(routes):\n",
    "    \n",
    "    routes.rename(columns={'route_color': 'stroke'}, inplace=True)\n",
    "    routes.stroke = '#' + routes.stroke.str.lstrip('#')\n",
    "    \n",
    "    return routes\n",
    "\n",
    "\n",
    "def map_coords(trips, routes, shapes):\n",
    "\n",
    "    trips['coords'] = trips.shape_id.map(shapes)\n",
    "\n",
    "    temp = trips.copy()\n",
    "    temp.drop_duplicates(subset=['route_id'], inplace=True)\n",
    "    temp.index = temp.route_id\n",
    "\n",
    "    routes['coords'] = routes.route_id.map(temp.coords)\n",
    "\n",
    "    return trips, routes\n",
    "\n",
    "\n",
    "def convert_to_geojson(df):\n",
    "\n",
    "    header = '{\\n\"type\": \"FeatureCollection\",\\n\"features\":\\n[\\n'\n",
    "    footer = '\\n]\\n}'\n",
    "\n",
    "    feat_code = '{\\n\"type\": \"Feature\",\\n\"geometry\":\\n{\\n\"type\": \"{{{TYPE}}}\",\\n\"coordinates\":\\n{{{COORDS}}}\\n},\\n\"properties\":\\n{\\n{{{PROPS}}}\\n}\\n}'\n",
    "\n",
    "    prop_code = '\"prop\": \"{{{PROP}}}\"'\n",
    "\n",
    "    cols = list(df.columns)\n",
    "    cols.remove('coords')\n",
    "\n",
    "    dd = df.copy()\n",
    "\n",
    "    dd.dropna(subset=['coords'], axis=0, inplace=True)\n",
    "    \n",
    "    dd.fillna('', inplace=True)\n",
    "\n",
    "    for c in cols:\n",
    "        dd[c] = dd[c].astype(str)\n",
    "\n",
    "    dd.coords = dd.coords.apply(lambda x: ''.join(str(x.tolist()).split()))\n",
    "\n",
    "    dd = dd.T.to_dict()\n",
    "\n",
    "    feats = []\n",
    "\n",
    "    for i in dd:\n",
    "\n",
    "        props = []\n",
    "\n",
    "        for c in cols:\n",
    "            prop = prop_code.replace('prop', c)\n",
    "            prop = prop.replace('{{{PROP}}}', dd[i][c])\n",
    "\n",
    "            props.append(prop)\n",
    "\n",
    "        props = ',\\n'.join(props)\n",
    "\n",
    "        feat = feat_code.replace('{{{PROPS}}}', props)\n",
    "        feat = feat.replace('{{{COORDS}}}', dd[i]['coords'])\n",
    "\n",
    "        if dd[i]['coords'][1] == '[':\n",
    "            feat_type = 'LineString'\n",
    "        else:\n",
    "            feat_type = 'Point'\n",
    "\n",
    "        feat = feat.replace('{{{TYPE}}}', feat_type)\n",
    "\n",
    "        feats.append(feat)\n",
    "\n",
    "    feats = ',\\n'.join(feats)\n",
    "\n",
    "    geojson = header + feats + footer\n",
    "    \n",
    "    return geojson\n",
    "\n",
    "\n",
    "def save_files(jsons, folder_out='output'):\n",
    "    \n",
    "    for i in jsons:\n",
    "        with open('/'.join([folder_out, i]) + '.geojson', 'w') as outfile:\n",
    "            outfile.write(jsons[i])\n",
    "\n",
    "\n",
    "def gtfs_to_geojson(folder_in='input', folder_out='output'):\n",
    "    \n",
    "    print('getting filenames')\n",
    "    fs = get_files(folder_in)\n",
    "    \n",
    "    print('loading files')\n",
    "    dfs = load_files(fs, folder_in)\n",
    "    \n",
    "    print('transforming data')\n",
    "    dfs['shapes'] = transform_shapes(dfs['shapes'])\n",
    "    dfs['stops'] = transform_stops(dfs['stops'])\n",
    "    dfs['routes'] = transform_routes(dfs['routes'])\n",
    "    \n",
    "    print('mapping data')\n",
    "    dfs['trips'], dfs['routes'] = map_coords(dfs['trips'], dfs['routes'], dfs['shapes'])\n",
    "    \n",
    "    print('converting to json')\n",
    "    jsons = {}\n",
    "    jsons['routes'] = convert_to_geojson(dfs['routes'])\n",
    "    jsons['stops'] = convert_to_geojson(dfs['stops'])\n",
    "    \n",
    "    print('saving files')\n",
    "    save_files(jsons, folder_out)\n",
    "    \n",
    "    print('\\ndone')\n",
    "    \n",
    "\n",
    "gtfs_to_geojson()"
   ]
  },
  {
   "cell_type": "code",
   "execution_count": null,
   "metadata": {},
   "outputs": [],
   "source": []
  }
 ],
 "metadata": {
  "kernelspec": {
   "display_name": "Python 3",
   "language": "python",
   "name": "python3"
  }
 },
 "nbformat": 4,
 "nbformat_minor": 2
}
