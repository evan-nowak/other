{
 "cells": [
  {
   "cell_type": "code",
   "execution_count": 47,
   "metadata": {},
   "outputs": [],
   "source": [
    "import pandas as pd\n",
    "import os"
   ]
  },
  {
   "cell_type": "code",
   "execution_count": null,
   "metadata": {},
   "outputs": [],
   "source": [
    "os.chdir('c:/users/enowak/desktop/busstuff')"
   ]
  },
  {
   "cell_type": "code",
   "execution_count": 1,
   "metadata": {},
   "outputs": [],
   "source": [
    "fn = 'c:/users/enowak/desktop/deadhead routes.xlsx'"
   ]
  },
  {
   "cell_type": "code",
   "execution_count": 13,
   "metadata": {},
   "outputs": [],
   "source": [
    "df = pd.read_excel(fn, sheet_name='Routes Lat-long', index=None, header=None)"
   ]
  },
  {
   "cell_type": "code",
   "execution_count": 14,
   "metadata": {},
   "outputs": [],
   "source": [
    "df = df.iloc[:, 1:]"
   ]
  },
  {
   "cell_type": "code",
   "execution_count": 45,
   "metadata": {},
   "outputs": [],
   "source": [
    "d = {}\n",
    "\n",
    "for c in df.columns:\n",
    "    temp = df[c]\n",
    "    name = '{0}_{1}'.format(temp[0], temp[1]).replace(' ', '')\n",
    "    \n",
    "    via = temp[2]\n",
    "    \n",
    "    temp = temp.dropna()[3:].tolist()\n",
    "    \n",
    "    temp_o = temp.pop(0)\n",
    "    temp_d = temp.pop()\n",
    "    \n",
    "    if len(temp) > 0:\n",
    "        temp = 'via:' + '|via:'.join(temp)\n",
    "    else:\n",
    "        temp = ''\n",
    "    \n",
    "    try:\n",
    "        d[name].append([via, temp_o, temp_d, temp])\n",
    "    except:\n",
    "        d[name] = []\n"
   ]
  },
  {
   "cell_type": "code",
   "execution_count": 46,
   "metadata": {},
   "outputs": [
    {
     "data": {
      "text/plain": [
       "[['Bayonne',\n",
       "  '40.560102, -74.170633',\n",
       "  '40.716054, -74.004814',\n",
       "  'via:40.575410, -74.169675|via:40.599582, -74.162528|via:40.607748, -74.158556|via:40.618101, -74.151380|via:40.641176, -74.142479|via:40.673766, -74.105442|via:40.679945, -74.101418|via:40.691940, -74.083670|via:40.724736, -74.053756|via:40.727846, -74.024873|via:40.720079, -74.006853|via:40.718357, -74.005623|via:40.717156, -74.003935'],\n",
       " ['I-95',\n",
       "  '40.560102, -74.170633',\n",
       "  '40.716054, -74.004814',\n",
       "  'via:40.533777, -74.197548|via:40.524811, -74.248045|via:40.548694, -74.278193|via:40.547601, -74.280092|via:40.652144, -74.195170|via:40.683122, -74.167404|via:40.695486, -74.119734|via:40.691940, -74.083670|via:40.724736, -74.053756|via:40.727846, -74.024873|via:40.720079, -74.006853|via:40.718357, -74.005623|via:40.717156, -74.003935'],\n",
       " ['NY-440',\n",
       "  '40.560102, -74.170633',\n",
       "  '40.716054, -74.004814',\n",
       "  'via:40.561311, -74.171111|via:40.557983, -74.202125|via:40.628443, -74.182516|via:40.652144, -74.195170|via:40.683122, -74.167404|via:40.695486, -74.119734|via:40.691940, -74.083670|via:40.724736, -74.053756|via:40.727846, -74.024873|via:40.720079, -74.006853|via:40.718357, -74.005623|via:40.717156, -74.003935']]"
      ]
     },
     "execution_count": 46,
     "metadata": {},
     "output_type": "execute_result"
    }
   ],
   "source": [
    "d['EltingvilleTC_Worth&Broadway']"
   ]
  },
  {
   "cell_type": "code",
   "execution_count": 48,
   "metadata": {},
   "outputs": [],
   "source": [
    "os.chdir('c:/users/enowak/desktop/busstuff/')"
   ]
  },
  {
   "cell_type": "code",
   "execution_count": 132,
   "metadata": {},
   "outputs": [
    {
     "data": {
      "text/plain": [
       "['AnnadaleDrumgooleRdWest_WorthBroadway.xlsx',\n",
       " 'CastletonJewett_PearlFrankfort.xlsx',\n",
       " 'CharlestonDepot_PearlFrankfort.xlsx',\n",
       " 'CharlestonDepot_WorthBroadway.xlsx',\n",
       " 'CraigAveHylanBLVD_WorthBroadway.xlsx',\n",
       " 'EltingvilleTC_PearlFrankfort.xlsx',\n",
       " 'EltingvilleTC_TrinityRector.xlsx',\n",
       " 'EltingvilleTC_WorthBroadway.xlsx',\n",
       " 'MeredithDepot_PearlFrankfort.xlsx',\n",
       " 'MeredithDepot_TrinityRector.xlsx',\n",
       " 'MeredithDepot_WorthBroadway.xlsx',\n",
       " 'RichmondTerraceSouthAv_WorthBroadway.xlsx',\n",
       " 'VictoryWild_WorthBroadway.xlsx',\n",
       " 'YukonDepot_PearlFrankfort.xlsx',\n",
       " 'YukonDepot_WorthBroadway.xlsx']"
      ]
     },
     "execution_count": 132,
     "metadata": {},
     "output_type": "execute_result"
    }
   ],
   "source": [
    "fs = [i for i in os.listdir('.') if not i.startswith('~') and i.endswith('.xlsx')]\n",
    "fs"
   ]
  },
  {
   "cell_type": "code",
   "execution_count": 81,
   "metadata": {},
   "outputs": [],
   "source": [
    "f = fs[0]"
   ]
  },
  {
   "cell_type": "code",
   "execution_count": 83,
   "metadata": {},
   "outputs": [],
   "source": [
    "data = pd.read_excel(f)"
   ]
  },
  {
   "cell_type": "code",
   "execution_count": 66,
   "metadata": {},
   "outputs": [],
   "source": [
    "df = data.reset_index(inplace=True)"
   ]
  },
  {
   "cell_type": "code",
   "execution_count": 67,
   "metadata": {},
   "outputs": [],
   "source": [
    "df.rename(columns={'index': 'date_time'}, inplace=True)"
   ]
  },
  {
   "cell_type": "code",
   "execution_count": 68,
   "metadata": {},
   "outputs": [],
   "source": [
    "df.date_time = pd.to_datetime(df.date_time, infer_datetime_format=True)"
   ]
  },
  {
   "cell_type": "code",
   "execution_count": 69,
   "metadata": {},
   "outputs": [],
   "source": [
    "cols = [i for i in df.columns if i.endswith('actual_time')]"
   ]
  },
  {
   "cell_type": "code",
   "execution_count": 70,
   "metadata": {},
   "outputs": [],
   "source": [
    "df = df[['date_time'] + cols]"
   ]
  },
  {
   "cell_type": "code",
   "execution_count": 127,
   "metadata": {},
   "outputs": [],
   "source": [
    "def get_col_name(row, cols):\n",
    "    for c in cols:\n",
    "        if row[c] == row['Best Travel Time']:\n",
    "            return c.split('_')[0]"
   ]
  },
  {
   "cell_type": "code",
   "execution_count": 117,
   "metadata": {},
   "outputs": [
    {
     "name": "stdout",
     "output_type": "stream",
     "text": [
      "AnnadaleDrumgooleRdWest_WorthBroadway.xlsx\n",
      "       I-95_actual_time  NY-440_actual_time  Best Travel Time  \\\n",
      "14:00           59.8445             59.2375           59.2375   \n",
      "15:00           62.1290             61.6570           61.6570   \n",
      "16:00           67.1425             66.3015           66.3015   \n",
      "17:00           69.9670             68.8710           68.8710   \n",
      "18:00           62.6730             61.2660           61.2660   \n",
      "19:00           58.3775             56.9240           56.9240   \n",
      "\n",
      "               Best Route  \n",
      "14:00  NY-440_actual_time  \n",
      "15:00  NY-440_actual_time  \n",
      "16:00  NY-440_actual_time  \n",
      "17:00  NY-440_actual_time  \n",
      "18:00  NY-440_actual_time  \n",
      "19:00  NY-440_actual_time  \n"
     ]
    }
   ],
   "source": [
    "print(f)\n",
    "\n",
    "temp = pd.DataFrame()\n",
    "\n",
    "for key, grp in df.groupby(df.date_time.dt.hour):\n",
    "    \n",
    "    c = str(key) + ':00'\n",
    "    \n",
    "    grp_m = grp.mean().to_frame()\n",
    "    grp_m.columns = [c]\n",
    "    \n",
    "    temp = temp.append(grp_m.T)\n",
    "\n",
    "temp['Best Travel Time'] = temp.min(axis=1)\n",
    "temp['Best Route'] = temp.apply(get_col_name, cols=cols, axis=1)\n",
    "\n",
    "print(temp)\n"
   ]
  },
  {
   "cell_type": "code",
   "execution_count": 118,
   "metadata": {},
   "outputs": [],
   "source": [
    "writer = pd.ExcelWriter(f, engine='xlsxwriter')"
   ]
  },
  {
   "cell_type": "code",
   "execution_count": 119,
   "metadata": {},
   "outputs": [],
   "source": [
    "data.to_excel(writer, sheet_name='Data')\n",
    "temp.to_excel(writer, sheet_name='Analysis')\n",
    "writer.save()\n",
    "writer.close()"
   ]
  },
  {
   "cell_type": "code",
   "execution_count": null,
   "metadata": {},
   "outputs": [],
   "source": []
  },
  {
   "cell_type": "code",
   "execution_count": 135,
   "metadata": {},
   "outputs": [
    {
     "name": "stdout",
     "output_type": "stream",
     "text": [
      "AnnadaleDrumgooleRdWest_WorthBroadway\n",
      "CastletonJewett_PearlFrankfort\n",
      "CharlestonDepot_PearlFrankfort\n",
      "CharlestonDepot_WorthBroadway\n",
      "CraigAveHylanBLVD_WorthBroadway\n",
      "EltingvilleTC_PearlFrankfort\n",
      "EltingvilleTC_TrinityRector\n",
      "EltingvilleTC_WorthBroadway\n",
      "MeredithDepot_PearlFrankfort\n",
      "MeredithDepot_TrinityRector\n",
      "MeredithDepot_WorthBroadway\n",
      "RichmondTerraceSouthAv_WorthBroadway\n",
      "VictoryWild_WorthBroadway\n",
      "YukonDepot_PearlFrankfort\n",
      "YukonDepot_WorthBroadway\n"
     ]
    }
   ],
   "source": [
    "writer = pd.ExcelWriter('deadhead_analysis.xlsx', engine='xlsxwriter')\n",
    "\n",
    "for f in fs:\n",
    "    print(f[:-5])\n",
    "\n",
    "    data = pd.read_excel(f)\n",
    "\n",
    "    df = data.reset_index()\n",
    "\n",
    "    df.rename(columns={'index': 'date_time'}, inplace=True)\n",
    "\n",
    "    df.date_time = pd.to_datetime(df.date_time, infer_datetime_format=True)\n",
    "\n",
    "    cols = [i for i in df.columns if i.endswith('actual_time')]\n",
    "\n",
    "    df = df[['date_time'] + cols]\n",
    "\n",
    "    temp = pd.DataFrame()\n",
    "\n",
    "    for key, grp in df.groupby(df.date_time.dt.hour):\n",
    "\n",
    "        c = str(key) + ':00'\n",
    "\n",
    "        grp_m = grp.mean().to_frame()\n",
    "        grp_m.columns = [c]\n",
    "\n",
    "        temp = temp.append(grp_m.T)\n",
    "\n",
    "    temp['Best Travel Time'] = temp.min(axis=1)\n",
    "    temp['Best Route'] = temp.apply(get_col_name, cols=cols, axis=1)\n",
    "    \n",
    "    temp['Saved Travel Time'] = temp['HC Tunnel_actual_time'] - temp['Best Travel Time']\n",
    "    \n",
    "    new_cols = [i.split('_')[0] for i in cols]\n",
    "    \n",
    "    temp.rename(columns=dict(zip(cols, new_cols)), inplace=True)\n",
    "    \n",
    "    temp = temp[['Best Route', 'Best Travel Time', 'Saved Travel Time'] + new_cols]\n",
    "    \n",
    "    temp.index.name = 'Time'\n",
    "\n",
    "    temp.to_excel(writer, sheet_name=f[:-5][:31])\n",
    "writer.save()\n",
    "writer.close()\n",
    "    \n",
    "#     writer = pd.ExcelWriter(f, engine='xlsxwriter')\n",
    "\n",
    "#     data.to_excel(writer, sheet_name='Data')\n",
    "#     temp.to_excel(writer, sheet_name='Analysis')\n",
    "    \n",
    "#     writer.save()\n",
    "#     writer.close()"
   ]
  },
  {
   "cell_type": "code",
   "execution_count": 154,
   "metadata": {
    "scrolled": false
   },
   "outputs": [
    {
     "name": "stdout",
     "output_type": "stream",
     "text": [
      "AnnadaleDrumgooleRdWest_WorthBroadway\n",
      "CastletonJewett_PearlFrankfort\n",
      "CharlestonDepot_PearlFrankfort\n",
      "CharlestonDepot_WorthBroadway\n",
      "CraigAveHylanBLVD_WorthBroadway\n",
      "EltingvilleTC_PearlFrankfort\n",
      "EltingvilleTC_TrinityRector\n",
      "EltingvilleTC_WorthBroadway\n",
      "MeredithDepot_PearlFrankfort\n",
      "MeredithDepot_TrinityRector\n",
      "MeredithDepot_WorthBroadway\n",
      "RichmondTerraceSouthAv_WorthBroadway\n",
      "VictoryWild_WorthBroadway\n",
      "YukonDepot_PearlFrankfort\n",
      "YukonDepot_WorthBroadway\n"
     ]
    }
   ],
   "source": [
    "writer = pd.ExcelWriter('deadhead_analysis.xlsx', engine='xlsxwriter')\n",
    "\n",
    "for f in fs:\n",
    "    print(f[:-5])\n",
    "\n",
    "    data = pd.read_excel('si_to_ma/' + f)\n",
    "\n",
    "    df = data.reset_index()\n",
    "\n",
    "    df.rename(columns={'index': 'date_time'}, inplace=True)\n",
    "\n",
    "    df.date_time = pd.to_datetime(df.date_time, infer_datetime_format=True)\n",
    "\n",
    "    cols = [i for i in df.columns if i.endswith('actual_time')]\n",
    "\n",
    "    df = df[['date_time'] + cols]\n",
    "    \n",
    "    df = df[(df.date_time.dt.hour >= 16) & (df.date_time.dt.hour < 20)]\n",
    "    \n",
    "#     temp = pd.DataFrame()\n",
    "\n",
    "#     for key, grp in df.groupby(df.date_time.dt.hour):\n",
    "\n",
    "#         c = str(key) + ':00'\n",
    "\n",
    "#         grp_m = grp.std().to_frame()\n",
    "#         grp_m.columns = [c]\n",
    "        \n",
    "#         temp = temp.append(grp_m.T)\n",
    "    \n",
    "    temp = df.describe()\n",
    "    \n",
    "#     print(temp)\n",
    "#     raise Exception('lkasjdf')\n",
    "    \n",
    "    temp['Best Travel Time'] = temp.min(axis=1)\n",
    "    temp['Best Route'] = temp.apply(get_col_name, cols=cols, axis=1)\n",
    "    \n",
    "    temp['Saved Travel Time'] = temp['HC Tunnel_actual_time'] - temp['Best Travel Time']\n",
    "    \n",
    "    new_cols = [i.split('_')[0] for i in cols]\n",
    "    \n",
    "    temp.rename(columns=dict(zip(cols, new_cols)), inplace=True)\n",
    "    \n",
    "    temp = temp[new_cols]\n",
    "    \n",
    "    temp.index.name = 'Time'\n",
    "\n",
    "    temp.to_excel(writer, sheet_name=f[:-5][:31])\n",
    "writer.save()\n",
    "writer.close()"
   ]
  },
  {
   "cell_type": "code",
   "execution_count": null,
   "metadata": {},
   "outputs": [],
   "source": []
  },
  {
   "cell_type": "code",
   "execution_count": null,
   "metadata": {},
   "outputs": [],
   "source": []
  },
  {
   "cell_type": "code",
   "execution_count": null,
   "metadata": {},
   "outputs": [],
   "source": []
  },
  {
   "cell_type": "code",
   "execution_count": null,
   "metadata": {},
   "outputs": [],
   "source": []
  },
  {
   "cell_type": "code",
   "execution_count": 131,
   "metadata": {},
   "outputs": [
    {
     "name": "stdout",
     "output_type": "stream",
     "text": [
      "AnnadaleDrumgooleRdWest_WorthBroadway.xlsx\n",
      "CastletonJewett_PearlFrankfort.xlsx\n",
      "CharlestonDepot_PearlFrankfort.xlsx\n",
      "CharlestonDepot_WorthBroadway.xlsx\n",
      "CraigAveHylanBLVD_WorthBroadway.xlsx\n",
      "EltingvilleTC_PearlFrankfort.xlsx\n",
      "EltingvilleTC_TrinityRector.xlsx\n",
      "EltingvilleTC_WorthBroadway.xlsx\n",
      "MeredithDepot_PearlFrankfort.xlsx\n",
      "MeredithDepot_TrinityRector.xlsx\n",
      "MeredithDepot_WorthBroadway.xlsx\n",
      "RichmondTerraceSouthAv_WorthBroadway.xlsx\n",
      "VictoryWild_WorthBroadway.xlsx\n",
      "YukonDepot_PearlFrankfort.xlsx\n",
      "YukonDepot_WorthBroadway.xlsx\n"
     ]
    }
   ],
   "source": [
    "for f in fs:\n",
    "    print(f)\n",
    "    \n",
    "    df1 = pd.read_excel(f)\n",
    "    df2 = pd.read_excel('x/' + f)\n",
    "    \n",
    "    df12 = pd.concat([df1, df2], axis=1)\n",
    "    \n",
    "    df12.to_excel(f)"
   ]
  },
  {
   "cell_type": "code",
   "execution_count": null,
   "metadata": {},
   "outputs": [],
   "source": []
  },
  {
   "cell_type": "code",
   "execution_count": null,
   "metadata": {},
   "outputs": [],
   "source": []
  },
  {
   "cell_type": "code",
   "execution_count": null,
   "metadata": {},
   "outputs": [],
   "source": []
  },
  {
   "cell_type": "code",
   "execution_count": null,
   "metadata": {},
   "outputs": [],
   "source": []
  },
  {
   "cell_type": "code",
   "execution_count": null,
   "metadata": {},
   "outputs": [],
   "source": []
  },
  {
   "cell_type": "code",
   "execution_count": null,
   "metadata": {},
   "outputs": [],
   "source": []
  }
 ],
 "metadata": {
  "kernelspec": {
   "display_name": "Python 3",
   "language": "python",
   "name": "python3"
  },
  "language_info": {
   "codemirror_mode": {
    "name": "ipython",
    "version": 3
   },
   "file_extension": ".py",
   "mimetype": "text/x-python",
   "name": "python",
   "nbconvert_exporter": "python",
   "pygments_lexer": "ipython3",
   "version": "3.6.4"
  }
 },
 "nbformat": 4,
 "nbformat_minor": 2
}
