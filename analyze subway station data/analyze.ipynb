{
 "cells": [
  {
   "cell_type": "code",
   "execution_count": 1,
   "metadata": {},
   "outputs": [
    {
     "data": {
      "application/javascript": [
       "IPython.notebook.set_autosave_interval(300000)"
      ]
     },
     "metadata": {},
     "output_type": "display_data"
    },
    {
     "name": "stdout",
     "output_type": "stream",
     "text": [
      "Autosaving every 300 seconds\n"
     ]
    }
   ],
   "source": [
    "%autosave 300"
   ]
  },
  {
   "cell_type": "code",
   "execution_count": 2,
   "metadata": {},
   "outputs": [],
   "source": [
    "import pandas as pd\n",
    "import numpy as np\n",
    "import geopandas as gpd\n",
    "\n",
    "from jupyterthemes import jtplot\n",
    "jtplot.style()"
   ]
  },
  {
   "cell_type": "code",
   "execution_count": 174,
   "metadata": {},
   "outputs": [],
   "source": [
    "d0 = pd.read_csv('data/turnstile_20200208.txt')\n",
    "d1 = pd.read_csv('data/turnstile_20200502.txt')\n",
    "\n",
    "d0.columns = [i.strip() for i in d0.columns]\n",
    "d1.columns = [i.strip() for i in d1.columns]"
   ]
  },
  {
   "cell_type": "code",
   "execution_count": 177,
   "metadata": {},
   "outputs": [
    {
     "name": "stdout",
     "output_type": "stream",
     "text": [
      "(205920, 11)\n"
     ]
    },
    {
     "data": {
      "text/html": [
       "<div>\n",
       "<style scoped>\n",
       "    .dataframe tbody tr th:only-of-type {\n",
       "        vertical-align: middle;\n",
       "    }\n",
       "\n",
       "    .dataframe tbody tr th {\n",
       "        vertical-align: top;\n",
       "    }\n",
       "\n",
       "    .dataframe thead th {\n",
       "        text-align: right;\n",
       "    }\n",
       "</style>\n",
       "<table border=\"1\" class=\"dataframe\">\n",
       "  <thead>\n",
       "    <tr style=\"text-align: right;\">\n",
       "      <th></th>\n",
       "      <th>C/A</th>\n",
       "      <th>UNIT</th>\n",
       "      <th>SCP</th>\n",
       "      <th>STATION</th>\n",
       "      <th>LINENAME</th>\n",
       "      <th>DIVISION</th>\n",
       "      <th>DATE</th>\n",
       "      <th>TIME</th>\n",
       "      <th>DESC</th>\n",
       "      <th>ENTRIES</th>\n",
       "      <th>EXITS</th>\n",
       "    </tr>\n",
       "  </thead>\n",
       "  <tbody>\n",
       "    <tr>\n",
       "      <th>0</th>\n",
       "      <td>A002</td>\n",
       "      <td>R051</td>\n",
       "      <td>02-00-00</td>\n",
       "      <td>59 ST</td>\n",
       "      <td>NQR456W</td>\n",
       "      <td>BMT</td>\n",
       "      <td>02/01/2020</td>\n",
       "      <td>03:00:00</td>\n",
       "      <td>REGULAR</td>\n",
       "      <td>7364079</td>\n",
       "      <td>2496560</td>\n",
       "    </tr>\n",
       "    <tr>\n",
       "      <th>1</th>\n",
       "      <td>A002</td>\n",
       "      <td>R051</td>\n",
       "      <td>02-00-00</td>\n",
       "      <td>59 ST</td>\n",
       "      <td>NQR456W</td>\n",
       "      <td>BMT</td>\n",
       "      <td>02/01/2020</td>\n",
       "      <td>07:00:00</td>\n",
       "      <td>REGULAR</td>\n",
       "      <td>7364091</td>\n",
       "      <td>2496574</td>\n",
       "    </tr>\n",
       "  </tbody>\n",
       "</table>\n",
       "</div>"
      ],
      "text/plain": [
       "    C/A  UNIT       SCP STATION LINENAME DIVISION        DATE      TIME  \\\n",
       "0  A002  R051  02-00-00   59 ST  NQR456W      BMT  02/01/2020  03:00:00   \n",
       "1  A002  R051  02-00-00   59 ST  NQR456W      BMT  02/01/2020  07:00:00   \n",
       "\n",
       "      DESC  ENTRIES    EXITS  \n",
       "0  REGULAR  7364079  2496560  \n",
       "1  REGULAR  7364091  2496574  "
      ]
     },
     "execution_count": 177,
     "metadata": {},
     "output_type": "execute_result"
    }
   ],
   "source": [
    "print(d0.shape)\n",
    "d0.head(2)"
   ]
  },
  {
   "cell_type": "code",
   "execution_count": 178,
   "metadata": {},
   "outputs": [],
   "source": [
    "d0['date_time'] = d0.DATE + ' ' + d0.TIME\n",
    "d1['date_time'] = d1.DATE + ' ' + d1.TIME\n",
    "\n",
    "d0.date_time = pd.to_datetime(d0.date_time, infer_datetime_format=True)\n",
    "d1.date_time = pd.to_datetime(d1.date_time, infer_datetime_format=True)\n",
    "\n",
    "d0 = d0[d0.date_time.dt.dayofweek.isin([0, 1, 2, 3, 6])]\n",
    "d1 = d1[d1.date_time.dt.dayofweek.isin([0, 1, 2, 3, 6])]"
   ]
  },
  {
   "cell_type": "code",
   "execution_count": 179,
   "metadata": {
    "scrolled": false
   },
   "outputs": [],
   "source": [
    "d0 = d0.groupby(['C/A', 'UNIT', 'SCP', 'DATE', 'STATION', 'LINENAME', 'DIVISION', 'DESC']).max().reset_index()\n",
    "d1 = d1.groupby(['C/A', 'UNIT', 'SCP', 'DATE', 'STATION', 'LINENAME', 'DIVISION', 'DESC']).max().reset_index()"
   ]
  },
  {
   "cell_type": "code",
   "execution_count": 185,
   "metadata": {
    "scrolled": false
   },
   "outputs": [],
   "source": [
    "dfs = []\n",
    "for key, grp in d0.groupby(['C/A', 'UNIT', 'SCP', 'STATION', 'LINENAME', 'DIVISION', 'DESC']):\n",
    "    temp = grp.copy()\n",
    "    temp['en'] = temp.ENTRIES.diff()\n",
    "    temp['ex'] = temp.EXITS.diff()\n",
    "    dfs.append(temp)\n",
    "d0 = pd.concat(dfs, sort=False)\n",
    "\n",
    "dfs = []\n",
    "for key, grp in d1.groupby(['C/A', 'UNIT', 'SCP', 'STATION', 'LINENAME', 'DIVISION', 'DESC']):\n",
    "    temp = grp.copy()\n",
    "    temp['en'] = temp.ENTRIES.diff()\n",
    "    temp['ex'] = temp.EXITS.diff()\n",
    "    dfs.append(temp)\n",
    "d1 = pd.concat(dfs, sort=False)\n",
    "\n",
    "d0.dropna(subset=['en'], inplace=True)\n",
    "d1.dropna(subset=['en'], inplace=True)\n",
    "\n",
    "d0.en = np.where(d0.en >= 0, d0.en, 0)\n",
    "d1.en = np.where(d1.en >= 0, d1.en, 0)\n",
    "\n",
    "d0.ex = np.where(d0.ex >= 0, d0.ex, 0)\n",
    "d1.ex = np.where(d1.ex >= 0, d1.ex, 0)"
   ]
  },
  {
   "cell_type": "code",
   "execution_count": 186,
   "metadata": {
    "scrolled": false
   },
   "outputs": [],
   "source": [
    "d0 = d0.groupby(['DATE', 'STATION', 'LINENAME', 'DIVISION', 'DESC']).sum().reset_index()\n",
    "d1 = d1.groupby(['DATE', 'STATION', 'LINENAME', 'DIVISION', 'DESC']).sum().reset_index()\n",
    "\n",
    "d0 = d0.groupby(['STATION', 'LINENAME', 'DIVISION', 'DESC']).median().reset_index()\n",
    "d1 = d1.groupby(['STATION', 'LINENAME', 'DIVISION', 'DESC']).median().reset_index()"
   ]
  },
  {
   "cell_type": "code",
   "execution_count": 187,
   "metadata": {},
   "outputs": [],
   "source": [
    "d0 = d0[['STATION', 'LINENAME', 'DIVISION', 'en', 'ex']]\n",
    "d1 = d1[['STATION', 'LINENAME', 'DIVISION', 'en', 'ex']]"
   ]
  },
  {
   "cell_type": "code",
   "execution_count": 189,
   "metadata": {},
   "outputs": [
    {
     "data": {
      "text/html": [
       "<div>\n",
       "<style scoped>\n",
       "    .dataframe tbody tr th:only-of-type {\n",
       "        vertical-align: middle;\n",
       "    }\n",
       "\n",
       "    .dataframe tbody tr th {\n",
       "        vertical-align: top;\n",
       "    }\n",
       "\n",
       "    .dataframe thead th {\n",
       "        text-align: right;\n",
       "    }\n",
       "</style>\n",
       "<table border=\"1\" class=\"dataframe\">\n",
       "  <thead>\n",
       "    <tr style=\"text-align: right;\">\n",
       "      <th></th>\n",
       "      <th>STATION</th>\n",
       "      <th>LINENAME</th>\n",
       "      <th>DIVISION</th>\n",
       "      <th>en</th>\n",
       "      <th>ex</th>\n",
       "    </tr>\n",
       "  </thead>\n",
       "  <tbody>\n",
       "    <tr>\n",
       "      <th>0</th>\n",
       "      <td>1 AV</td>\n",
       "      <td>L</td>\n",
       "      <td>BMT</td>\n",
       "      <td>1540.0</td>\n",
       "      <td>2576.5</td>\n",
       "    </tr>\n",
       "    <tr>\n",
       "      <th>1</th>\n",
       "      <td>103 ST</td>\n",
       "      <td>1</td>\n",
       "      <td>IRT</td>\n",
       "      <td>1085.0</td>\n",
       "      <td>980.5</td>\n",
       "    </tr>\n",
       "  </tbody>\n",
       "</table>\n",
       "</div>"
      ],
      "text/plain": [
       "  STATION LINENAME DIVISION      en      ex\n",
       "0    1 AV        L      BMT  1540.0  2576.5\n",
       "1  103 ST        1      IRT  1085.0   980.5"
      ]
     },
     "execution_count": 189,
     "metadata": {},
     "output_type": "execute_result"
    }
   ],
   "source": [
    "d1.head(2)"
   ]
  },
  {
   "cell_type": "code",
   "execution_count": 190,
   "metadata": {},
   "outputs": [],
   "source": [
    "d0.rename(columns={'en': 'FEB_ENTRIES', 'ex': 'FEB_EXITS'}, inplace=True)\n",
    "d1.rename(columns={'en': 'APR_ENTRIES', 'ex': 'APR_EXITS'}, inplace=True)"
   ]
  },
  {
   "cell_type": "code",
   "execution_count": 191,
   "metadata": {},
   "outputs": [
    {
     "data": {
      "text/html": [
       "<div>\n",
       "<style scoped>\n",
       "    .dataframe tbody tr th:only-of-type {\n",
       "        vertical-align: middle;\n",
       "    }\n",
       "\n",
       "    .dataframe tbody tr th {\n",
       "        vertical-align: top;\n",
       "    }\n",
       "\n",
       "    .dataframe thead th {\n",
       "        text-align: right;\n",
       "    }\n",
       "</style>\n",
       "<table border=\"1\" class=\"dataframe\">\n",
       "  <thead>\n",
       "    <tr style=\"text-align: right;\">\n",
       "      <th></th>\n",
       "      <th>STATION</th>\n",
       "      <th>LINENAME</th>\n",
       "      <th>DIVISION</th>\n",
       "      <th>FEB_ENTRIES</th>\n",
       "      <th>FEB_EXITS</th>\n",
       "    </tr>\n",
       "  </thead>\n",
       "  <tbody>\n",
       "    <tr>\n",
       "      <th>0</th>\n",
       "      <td>1 AV</td>\n",
       "      <td>L</td>\n",
       "      <td>BMT</td>\n",
       "      <td>18139.0</td>\n",
       "      <td>20145.0</td>\n",
       "    </tr>\n",
       "    <tr>\n",
       "      <th>1</th>\n",
       "      <td>103 ST</td>\n",
       "      <td>1</td>\n",
       "      <td>IRT</td>\n",
       "      <td>11931.0</td>\n",
       "      <td>5978.0</td>\n",
       "    </tr>\n",
       "  </tbody>\n",
       "</table>\n",
       "</div>"
      ],
      "text/plain": [
       "  STATION LINENAME DIVISION  FEB_ENTRIES  FEB_EXITS\n",
       "0    1 AV        L      BMT      18139.0    20145.0\n",
       "1  103 ST        1      IRT      11931.0     5978.0"
      ]
     },
     "execution_count": 191,
     "metadata": {},
     "output_type": "execute_result"
    }
   ],
   "source": [
    "d0.head(2)"
   ]
  },
  {
   "cell_type": "code",
   "execution_count": 192,
   "metadata": {},
   "outputs": [
    {
     "data": {
      "text/plain": [
       "((494, 5), (488, 5))"
      ]
     },
     "execution_count": 192,
     "metadata": {},
     "output_type": "execute_result"
    }
   ],
   "source": [
    "d0.shape, d1.shape"
   ]
  },
  {
   "cell_type": "code",
   "execution_count": 194,
   "metadata": {
    "scrolled": true
   },
   "outputs": [],
   "source": [
    "d = d0.merge(d1)"
   ]
  },
  {
   "cell_type": "code",
   "execution_count": 195,
   "metadata": {},
   "outputs": [
    {
     "name": "stdout",
     "output_type": "stream",
     "text": [
      "(498, 7)\n"
     ]
    },
    {
     "data": {
      "text/html": [
       "<div>\n",
       "<style scoped>\n",
       "    .dataframe tbody tr th:only-of-type {\n",
       "        vertical-align: middle;\n",
       "    }\n",
       "\n",
       "    .dataframe tbody tr th {\n",
       "        vertical-align: top;\n",
       "    }\n",
       "\n",
       "    .dataframe thead th {\n",
       "        text-align: right;\n",
       "    }\n",
       "</style>\n",
       "<table border=\"1\" class=\"dataframe\">\n",
       "  <thead>\n",
       "    <tr style=\"text-align: right;\">\n",
       "      <th></th>\n",
       "      <th>STATION</th>\n",
       "      <th>LINENAME</th>\n",
       "      <th>DIVISION</th>\n",
       "      <th>FEB_ENTRIES</th>\n",
       "      <th>FEB_EXITS</th>\n",
       "      <th>APR_ENTRIES</th>\n",
       "      <th>APR_EXITS</th>\n",
       "    </tr>\n",
       "  </thead>\n",
       "  <tbody>\n",
       "    <tr>\n",
       "      <th>0</th>\n",
       "      <td>1 AV</td>\n",
       "      <td>L</td>\n",
       "      <td>BMT</td>\n",
       "      <td>18139.0</td>\n",
       "      <td>20145.0</td>\n",
       "      <td>1540.0</td>\n",
       "      <td>2576.5</td>\n",
       "    </tr>\n",
       "    <tr>\n",
       "      <th>1</th>\n",
       "      <td>103 ST</td>\n",
       "      <td>1</td>\n",
       "      <td>IRT</td>\n",
       "      <td>11931.0</td>\n",
       "      <td>5978.0</td>\n",
       "      <td>1085.0</td>\n",
       "      <td>980.5</td>\n",
       "    </tr>\n",
       "  </tbody>\n",
       "</table>\n",
       "</div>"
      ],
      "text/plain": [
       "  STATION LINENAME DIVISION  FEB_ENTRIES  FEB_EXITS  APR_ENTRIES  APR_EXITS\n",
       "0    1 AV        L      BMT      18139.0    20145.0       1540.0     2576.5\n",
       "1  103 ST        1      IRT      11931.0     5978.0       1085.0      980.5"
      ]
     },
     "execution_count": 195,
     "metadata": {},
     "output_type": "execute_result"
    }
   ],
   "source": [
    "print(d.shape)\n",
    "d.head(2)"
   ]
  },
  {
   "cell_type": "code",
   "execution_count": 234,
   "metadata": {},
   "outputs": [],
   "source": [
    "d['line'] = d.LINENAME.apply(lambda x: ''.join(sorted(x)))"
   ]
  },
  {
   "cell_type": "code",
   "execution_count": 325,
   "metadata": {},
   "outputs": [],
   "source": [
    "fix = pd.read_excel('data/fix_names.xlsx')"
   ]
  },
  {
   "cell_type": "code",
   "execution_count": 331,
   "metadata": {},
   "outputs": [],
   "source": [
    "temp = fix.copy()\n",
    "temp.dropna(subset=['data'], inplace=True)\n",
    "temp.drop_duplicates(subset=['data'], inplace=True)\n",
    "temp.index = temp.data\n",
    "d.STATION = d.STATION.map(temp.new)"
   ]
  },
  {
   "cell_type": "code",
   "execution_count": 330,
   "metadata": {},
   "outputs": [],
   "source": [
    "stations = pd.read_csv('data/NYC_Transit_Subway_Entrance_And_Exit_Data.csv')\n",
    "\n",
    "stations.fillna('', inplace=True)\n",
    "\n",
    "cols = ['Route1', 'Route2', 'Route3', 'Route4', 'Route5', 'Route6', 'Route7', 'Route8', 'Route9', 'Route10', 'Route11']\n",
    "stations[cols] = stations[cols].astype(str)\n",
    "\n",
    "stations['line'] = stations[cols].sum(axis=1)\n",
    "stations['line'] = stations.line.apply(lambda x: ''.join(sorted(x)))\n",
    "\n",
    "stations.line = stations.line.str.replace('.', '')\n",
    "stations.line = stations.line.str.replace('0', '')\n",
    "\n",
    "stations = stations[['Division', 'Line', 'Station Name', 'Station Latitude', 'Station Longitude', 'line']]\n",
    "\n",
    "stations['Station Name'] = stations['Station Name'].str.upper()\n",
    "\n",
    "stations.columns = ['DIVISION', 'line_name', 'STATION', 'lat', 'lon', 'line']\n",
    "\n",
    "stations.STATION = stations.STATION.str.replace('(\\d+)(\\w+) ', r'\\1 ')\n",
    "\n",
    "temp = fix.copy()\n",
    "temp.dropna(subset=['station'], inplace=True)\n",
    "temp.drop_duplicates(subset=['station'], inplace=True)\n",
    "temp.index = temp.station\n",
    "stations.STATION = stations.STATION.map(temp.new)\n",
    "\n",
    "stations.drop_duplicates(inplace=True)"
   ]
  },
  {
   "cell_type": "code",
   "execution_count": 344,
   "metadata": {
    "scrolled": true
   },
   "outputs": [
    {
     "data": {
      "text/html": [
       "<div>\n",
       "<style scoped>\n",
       "    .dataframe tbody tr th:only-of-type {\n",
       "        vertical-align: middle;\n",
       "    }\n",
       "\n",
       "    .dataframe tbody tr th {\n",
       "        vertical-align: top;\n",
       "    }\n",
       "\n",
       "    .dataframe thead th {\n",
       "        text-align: right;\n",
       "    }\n",
       "</style>\n",
       "<table border=\"1\" class=\"dataframe\">\n",
       "  <thead>\n",
       "    <tr style=\"text-align: right;\">\n",
       "      <th></th>\n",
       "      <th>stop_id</th>\n",
       "      <th>DIVISION</th>\n",
       "      <th>line_name</th>\n",
       "      <th>STOP</th>\n",
       "      <th>routes</th>\n",
       "      <th>lat</th>\n",
       "      <th>lon</th>\n",
       "      <th>STATION</th>\n",
       "    </tr>\n",
       "  </thead>\n",
       "  <tbody>\n",
       "    <tr>\n",
       "      <th>0</th>\n",
       "      <td>R01</td>\n",
       "      <td>BMT</td>\n",
       "      <td>Astoria</td>\n",
       "      <td>Astoria - Ditmars Blvd</td>\n",
       "      <td>N W</td>\n",
       "      <td>40.775036</td>\n",
       "      <td>-73.912034</td>\n",
       "      <td>ASTORIA - DITMARS BLVD</td>\n",
       "    </tr>\n",
       "    <tr>\n",
       "      <th>1</th>\n",
       "      <td>R03</td>\n",
       "      <td>BMT</td>\n",
       "      <td>Astoria</td>\n",
       "      <td>Astoria Blvd</td>\n",
       "      <td>N W</td>\n",
       "      <td>40.770258</td>\n",
       "      <td>-73.917843</td>\n",
       "      <td>ASTORIA BLVD</td>\n",
       "    </tr>\n",
       "    <tr>\n",
       "      <th>2</th>\n",
       "      <td>R04</td>\n",
       "      <td>BMT</td>\n",
       "      <td>Astoria</td>\n",
       "      <td>30 Av</td>\n",
       "      <td>N W</td>\n",
       "      <td>40.766779</td>\n",
       "      <td>-73.921479</td>\n",
       "      <td>30 AV</td>\n",
       "    </tr>\n",
       "    <tr>\n",
       "      <th>3</th>\n",
       "      <td>R05</td>\n",
       "      <td>BMT</td>\n",
       "      <td>Astoria</td>\n",
       "      <td>Broadway</td>\n",
       "      <td>N W</td>\n",
       "      <td>40.761820</td>\n",
       "      <td>-73.925508</td>\n",
       "      <td>BROADWAY</td>\n",
       "    </tr>\n",
       "    <tr>\n",
       "      <th>4</th>\n",
       "      <td>R06</td>\n",
       "      <td>BMT</td>\n",
       "      <td>Astoria</td>\n",
       "      <td>36 Av</td>\n",
       "      <td>N W</td>\n",
       "      <td>40.756804</td>\n",
       "      <td>-73.929575</td>\n",
       "      <td>36 AV</td>\n",
       "    </tr>\n",
       "  </tbody>\n",
       "</table>\n",
       "</div>"
      ],
      "text/plain": [
       "  stop_id DIVISION line_name                    STOP routes        lat  \\\n",
       "0     R01      BMT   Astoria  Astoria - Ditmars Blvd    N W  40.775036   \n",
       "1     R03      BMT   Astoria            Astoria Blvd    N W  40.770258   \n",
       "2     R04      BMT   Astoria                   30 Av    N W  40.766779   \n",
       "3     R05      BMT   Astoria                Broadway    N W  40.761820   \n",
       "4     R06      BMT   Astoria                   36 Av    N W  40.756804   \n",
       "\n",
       "         lon                 STATION  \n",
       "0 -73.912034  ASTORIA - DITMARS BLVD  \n",
       "1 -73.917843            ASTORIA BLVD  \n",
       "2 -73.921479                   30 AV  \n",
       "3 -73.925508                BROADWAY  \n",
       "4 -73.929575                   36 AV  "
      ]
     },
     "execution_count": 344,
     "metadata": {},
     "output_type": "execute_result"
    }
   ],
   "source": [
    "stations = pd.read_csv('data/stations.csv')\n",
    "\n",
    "stations.fillna('', inplace=True)\n",
    "\n",
    "temp = fix.copy()\n",
    "temp.dropna(subset=['station'], inplace=True)\n",
    "temp.drop_duplicates(subset=['station'], inplace=True)\n",
    "temp.index = temp.station\n",
    "\n",
    "stations['STATION'] = stations.STOP.str.upper().map(temp.new)\n",
    "\n",
    "stations.head()"
   ]
  },
  {
   "cell_type": "code",
   "execution_count": 346,
   "metadata": {},
   "outputs": [
    {
     "data": {
      "text/html": [
       "<div>\n",
       "<style scoped>\n",
       "    .dataframe tbody tr th:only-of-type {\n",
       "        vertical-align: middle;\n",
       "    }\n",
       "\n",
       "    .dataframe tbody tr th {\n",
       "        vertical-align: top;\n",
       "    }\n",
       "\n",
       "    .dataframe thead th {\n",
       "        text-align: right;\n",
       "    }\n",
       "</style>\n",
       "<table border=\"1\" class=\"dataframe\">\n",
       "  <thead>\n",
       "    <tr style=\"text-align: right;\">\n",
       "      <th></th>\n",
       "      <th>STATION</th>\n",
       "      <th>LINENAME</th>\n",
       "      <th>DIVISION</th>\n",
       "      <th>FEB_ENTRIES</th>\n",
       "      <th>FEB_EXITS</th>\n",
       "      <th>APR_ENTRIES</th>\n",
       "      <th>APR_EXITS</th>\n",
       "      <th>line</th>\n",
       "    </tr>\n",
       "  </thead>\n",
       "  <tbody>\n",
       "    <tr>\n",
       "      <th>0</th>\n",
       "      <td>1 AV</td>\n",
       "      <td>L</td>\n",
       "      <td>BMT</td>\n",
       "      <td>18139.0</td>\n",
       "      <td>20145.0</td>\n",
       "      <td>1540.0</td>\n",
       "      <td>2576.5</td>\n",
       "      <td>L</td>\n",
       "    </tr>\n",
       "    <tr>\n",
       "      <th>1</th>\n",
       "      <td>103 ST</td>\n",
       "      <td>1</td>\n",
       "      <td>IRT</td>\n",
       "      <td>11931.0</td>\n",
       "      <td>5978.0</td>\n",
       "      <td>1085.0</td>\n",
       "      <td>980.5</td>\n",
       "      <td>1</td>\n",
       "    </tr>\n",
       "  </tbody>\n",
       "</table>\n",
       "</div>"
      ],
      "text/plain": [
       "  STATION LINENAME DIVISION  FEB_ENTRIES  FEB_EXITS  APR_ENTRIES  APR_EXITS  \\\n",
       "0    1 AV        L      BMT      18139.0    20145.0       1540.0     2576.5   \n",
       "1  103 ST        1      IRT      11931.0     5978.0       1085.0      980.5   \n",
       "\n",
       "  line  \n",
       "0    L  \n",
       "1    1  "
      ]
     },
     "execution_count": 346,
     "metadata": {},
     "output_type": "execute_result"
    }
   ],
   "source": [
    "d.head(2)"
   ]
  },
  {
   "cell_type": "code",
   "execution_count": 354,
   "metadata": {},
   "outputs": [
    {
     "name": "stdout",
     "output_type": "stream",
     "text": [
      "(554, 14)\n"
     ]
    },
    {
     "data": {
      "text/html": [
       "<div>\n",
       "<style scoped>\n",
       "    .dataframe tbody tr th:only-of-type {\n",
       "        vertical-align: middle;\n",
       "    }\n",
       "\n",
       "    .dataframe tbody tr th {\n",
       "        vertical-align: top;\n",
       "    }\n",
       "\n",
       "    .dataframe thead th {\n",
       "        text-align: right;\n",
       "    }\n",
       "</style>\n",
       "<table border=\"1\" class=\"dataframe\">\n",
       "  <thead>\n",
       "    <tr style=\"text-align: right;\">\n",
       "      <th></th>\n",
       "      <th>STATION</th>\n",
       "      <th>LINENAME</th>\n",
       "      <th>DIVISION</th>\n",
       "      <th>FEB_ENTRIES</th>\n",
       "      <th>FEB_EXITS</th>\n",
       "      <th>APR_ENTRIES</th>\n",
       "      <th>APR_EXITS</th>\n",
       "      <th>line</th>\n",
       "      <th>stop_id</th>\n",
       "      <th>line_name</th>\n",
       "      <th>STOP</th>\n",
       "      <th>routes</th>\n",
       "      <th>lat</th>\n",
       "      <th>lon</th>\n",
       "    </tr>\n",
       "  </thead>\n",
       "  <tbody>\n",
       "    <tr>\n",
       "      <th>0</th>\n",
       "      <td>1 AV</td>\n",
       "      <td>L</td>\n",
       "      <td>BMT</td>\n",
       "      <td>18139.0</td>\n",
       "      <td>20145.0</td>\n",
       "      <td>1540.0</td>\n",
       "      <td>2576.5</td>\n",
       "      <td>L</td>\n",
       "      <td>L06</td>\n",
       "      <td>Canarsie</td>\n",
       "      <td>1 Av</td>\n",
       "      <td>L</td>\n",
       "      <td>40.730953</td>\n",
       "      <td>-73.981628</td>\n",
       "    </tr>\n",
       "    <tr>\n",
       "      <th>1</th>\n",
       "      <td>103 ST</td>\n",
       "      <td>1</td>\n",
       "      <td>IRT</td>\n",
       "      <td>11931.0</td>\n",
       "      <td>5978.0</td>\n",
       "      <td>1085.0</td>\n",
       "      <td>980.5</td>\n",
       "      <td>1</td>\n",
       "      <td>119</td>\n",
       "      <td>Broadway - 7Av</td>\n",
       "      <td>103 St</td>\n",
       "      <td>1</td>\n",
       "      <td>40.799446</td>\n",
       "      <td>-73.968379</td>\n",
       "    </tr>\n",
       "    <tr>\n",
       "      <th>2</th>\n",
       "      <td>103 ST</td>\n",
       "      <td>1</td>\n",
       "      <td>IRT</td>\n",
       "      <td>11931.0</td>\n",
       "      <td>5978.0</td>\n",
       "      <td>1085.0</td>\n",
       "      <td>980.5</td>\n",
       "      <td>1</td>\n",
       "      <td>624</td>\n",
       "      <td>Lexington Av</td>\n",
       "      <td>103 St</td>\n",
       "      <td>6</td>\n",
       "      <td>40.790600</td>\n",
       "      <td>-73.947478</td>\n",
       "    </tr>\n",
       "    <tr>\n",
       "      <th>3</th>\n",
       "      <td>103 ST</td>\n",
       "      <td>6</td>\n",
       "      <td>IRT</td>\n",
       "      <td>13694.5</td>\n",
       "      <td>12627.0</td>\n",
       "      <td>2109.5</td>\n",
       "      <td>2708.5</td>\n",
       "      <td>6</td>\n",
       "      <td>119</td>\n",
       "      <td>Broadway - 7Av</td>\n",
       "      <td>103 St</td>\n",
       "      <td>1</td>\n",
       "      <td>40.799446</td>\n",
       "      <td>-73.968379</td>\n",
       "    </tr>\n",
       "    <tr>\n",
       "      <th>4</th>\n",
       "      <td>103 ST</td>\n",
       "      <td>6</td>\n",
       "      <td>IRT</td>\n",
       "      <td>13694.5</td>\n",
       "      <td>12627.0</td>\n",
       "      <td>2109.5</td>\n",
       "      <td>2708.5</td>\n",
       "      <td>6</td>\n",
       "      <td>624</td>\n",
       "      <td>Lexington Av</td>\n",
       "      <td>103 St</td>\n",
       "      <td>6</td>\n",
       "      <td>40.790600</td>\n",
       "      <td>-73.947478</td>\n",
       "    </tr>\n",
       "  </tbody>\n",
       "</table>\n",
       "</div>"
      ],
      "text/plain": [
       "  STATION LINENAME DIVISION  FEB_ENTRIES  FEB_EXITS  APR_ENTRIES  APR_EXITS  \\\n",
       "0    1 AV        L      BMT      18139.0    20145.0       1540.0     2576.5   \n",
       "1  103 ST        1      IRT      11931.0     5978.0       1085.0      980.5   \n",
       "2  103 ST        1      IRT      11931.0     5978.0       1085.0      980.5   \n",
       "3  103 ST        6      IRT      13694.5    12627.0       2109.5     2708.5   \n",
       "4  103 ST        6      IRT      13694.5    12627.0       2109.5     2708.5   \n",
       "\n",
       "  line stop_id       line_name    STOP routes        lat        lon  \n",
       "0    L     L06        Canarsie    1 Av      L  40.730953 -73.981628  \n",
       "1    1     119  Broadway - 7Av  103 St      1  40.799446 -73.968379  \n",
       "2    1     624    Lexington Av  103 St      6  40.790600 -73.947478  \n",
       "3    6     119  Broadway - 7Av  103 St      1  40.799446 -73.968379  \n",
       "4    6     624    Lexington Av  103 St      6  40.790600 -73.947478  "
      ]
     },
     "execution_count": 354,
     "metadata": {},
     "output_type": "execute_result"
    }
   ],
   "source": [
    "df = d.merge(stations, on=['STATION', 'DIVISION'])\n",
    "\n",
    "print(df.shape)\n",
    "df.head()"
   ]
  },
  {
   "cell_type": "code",
   "execution_count": null,
   "metadata": {},
   "outputs": [],
   "source": []
  },
  {
   "cell_type": "code",
   "execution_count": 3,
   "metadata": {},
   "outputs": [
    {
     "name": "stdout",
     "output_type": "stream",
     "text": [
      "(450, 11)\n"
     ]
    },
    {
     "data": {
      "text/html": [
       "<div>\n",
       "<style scoped>\n",
       "    .dataframe tbody tr th:only-of-type {\n",
       "        vertical-align: middle;\n",
       "    }\n",
       "\n",
       "    .dataframe tbody tr th {\n",
       "        vertical-align: top;\n",
       "    }\n",
       "\n",
       "    .dataframe thead th {\n",
       "        text-align: right;\n",
       "    }\n",
       "</style>\n",
       "<table border=\"1\" class=\"dataframe\">\n",
       "  <thead>\n",
       "    <tr style=\"text-align: right;\">\n",
       "      <th></th>\n",
       "      <th>station</th>\n",
       "      <th>division</th>\n",
       "      <th>feb_entries</th>\n",
       "      <th>feb_exits</th>\n",
       "      <th>apr_entries</th>\n",
       "      <th>apr_exits</th>\n",
       "      <th>lines</th>\n",
       "      <th>lat</th>\n",
       "      <th>lon</th>\n",
       "      <th>geometry</th>\n",
       "      <th>line_name</th>\n",
       "    </tr>\n",
       "  </thead>\n",
       "  <tbody>\n",
       "    <tr>\n",
       "      <th>0</th>\n",
       "      <td>1 AV</td>\n",
       "      <td>BMT</td>\n",
       "      <td>18139.0</td>\n",
       "      <td>20145.0</td>\n",
       "      <td>1540.0</td>\n",
       "      <td>2576.5</td>\n",
       "      <td>L</td>\n",
       "      <td>40.730953</td>\n",
       "      <td>-73.981628</td>\n",
       "      <td>(40.730953,-73.981628)</td>\n",
       "      <td>Canarsie</td>\n",
       "    </tr>\n",
       "    <tr>\n",
       "      <th>1</th>\n",
       "      <td>103 ST</td>\n",
       "      <td>IRT</td>\n",
       "      <td>11931.0</td>\n",
       "      <td>5978.0</td>\n",
       "      <td>1085.0</td>\n",
       "      <td>980.5</td>\n",
       "      <td>1</td>\n",
       "      <td>40.799446</td>\n",
       "      <td>-73.968379</td>\n",
       "      <td>(40.799446,-73.968379)</td>\n",
       "      <td>Broadway - 7Av</td>\n",
       "    </tr>\n",
       "  </tbody>\n",
       "</table>\n",
       "</div>"
      ],
      "text/plain": [
       "  station division  feb_entries  feb_exits  apr_entries  apr_exits lines  \\\n",
       "0    1 AV      BMT      18139.0    20145.0       1540.0     2576.5     L   \n",
       "1  103 ST      IRT      11931.0     5978.0       1085.0      980.5     1   \n",
       "\n",
       "         lat        lon                geometry       line_name  \n",
       "0  40.730953 -73.981628  (40.730953,-73.981628)        Canarsie  \n",
       "1  40.799446 -73.968379  (40.799446,-73.968379)  Broadway - 7Av  "
      ]
     },
     "execution_count": 3,
     "metadata": {},
     "output_type": "execute_result"
    }
   ],
   "source": [
    "df = pd.read_excel('output.xlsx')\n",
    "\n",
    "print(df.shape)\n",
    "df.head(2)"
   ]
  },
  {
   "cell_type": "code",
   "execution_count": 4,
   "metadata": {},
   "outputs": [],
   "source": [
    "from shapely.geometry import Point"
   ]
  },
  {
   "cell_type": "code",
   "execution_count": 5,
   "metadata": {},
   "outputs": [],
   "source": [
    "df['geometry'] = df.apply(lambda x: Point(x.lon, x.lat), 1)"
   ]
  },
  {
   "cell_type": "code",
   "execution_count": 6,
   "metadata": {},
   "outputs": [],
   "source": [
    "gdf = gpd.GeoDataFrame(df)"
   ]
  },
  {
   "cell_type": "code",
   "execution_count": null,
   "metadata": {},
   "outputs": [],
   "source": [
    "gdf['change_entries'] = gdf.apr_entries / gdf.feb_entries * 100\n",
    "gdf['change_exits'] = gdf.apr_exits / gdf.feb_exits * 100"
   ]
  },
  {
   "cell_type": "code",
   "execution_count": 378,
   "metadata": {},
   "outputs": [],
   "source": [
    "gdf.to_file('subways.shp')"
   ]
  },
  {
   "cell_type": "code",
   "execution_count": 11,
   "metadata": {},
   "outputs": [],
   "source": [
    "gdf.to_file('subways.geojson', driver='GeoJSON')"
   ]
  },
  {
   "cell_type": "code",
   "execution_count": null,
   "metadata": {},
   "outputs": [],
   "source": []
  },
  {
   "cell_type": "code",
   "execution_count": null,
   "metadata": {},
   "outputs": [],
   "source": []
  },
  {
   "cell_type": "code",
   "execution_count": null,
   "metadata": {},
   "outputs": [],
   "source": []
  },
  {
   "cell_type": "code",
   "execution_count": null,
   "metadata": {},
   "outputs": [],
   "source": []
  },
  {
   "cell_type": "code",
   "execution_count": null,
   "metadata": {},
   "outputs": [],
   "source": []
  },
  {
   "cell_type": "code",
   "execution_count": null,
   "metadata": {},
   "outputs": [],
   "source": []
  },
  {
   "cell_type": "code",
   "execution_count": null,
   "metadata": {},
   "outputs": [],
   "source": []
  },
  {
   "cell_type": "code",
   "execution_count": null,
   "metadata": {},
   "outputs": [],
   "source": []
  },
  {
   "cell_type": "code",
   "execution_count": null,
   "metadata": {},
   "outputs": [],
   "source": []
  },
  {
   "cell_type": "code",
   "execution_count": null,
   "metadata": {},
   "outputs": [],
   "source": []
  }
 ],
 "metadata": {
  "kernelspec": {
   "display_name": "Python 3",
   "language": "python",
   "name": "python3"
  },
  "language_info": {
   "codemirror_mode": {
    "name": "ipython",
    "version": 3
   },
   "file_extension": ".py",
   "mimetype": "text/x-python",
   "name": "python",
   "nbconvert_exporter": "python",
   "pygments_lexer": "ipython3",
   "version": "3.6.4"
  }
 },
 "nbformat": 4,
 "nbformat_minor": 2
}
